{
  "nbformat": 4,
  "nbformat_minor": 0,
  "metadata": {
    "colab": {
      "provenance": []
    },
    "kernelspec": {
      "name": "python3",
      "display_name": "Python 3"
    },
    "language_info": {
      "name": "python"
    }
  },
  "cells": [
    {
      "cell_type": "code",
      "execution_count": 2,
      "metadata": {
        "colab": {
          "base_uri": "https://localhost:8080/"
        },
        "id": "El4jauMdnuqb",
        "outputId": "17a2a882-960c-485a-db55-55b86e0942d6"
      },
      "outputs": [
        {
          "output_type": "stream",
          "name": "stdout",
          "text": [
            "--2025-06-27 13:45:28--  https://gist.githubusercontent.com/blakesanie/dde3a2b7e698f52f389532b4b52bc254/raw/76fe1b5e9efcf0d2afdfd78b0bfaa737ad0a67d3/shakespeare.txt\n",
            "Resolving gist.githubusercontent.com (gist.githubusercontent.com)... 185.199.108.133, 185.199.109.133, 185.199.110.133, ...\n",
            "Connecting to gist.githubusercontent.com (gist.githubusercontent.com)|185.199.108.133|:443... connected.\n",
            "HTTP request sent, awaiting response... 200 OK\n",
            "Length: 5436475 (5.2M) [text/plain]\n",
            "Saving to: ‘shakespeare.txt’\n",
            "\n",
            "shakespeare.txt     100%[===================>]   5.18M  --.-KB/s    in 0.06s   \n",
            "\n",
            "2025-06-27 13:45:29 (85.5 MB/s) - ‘shakespeare.txt’ saved [5436475/5436475]\n",
            "\n"
          ]
        }
      ],
      "source": [
        "!wget https://gist.githubusercontent.com/blakesanie/dde3a2b7e698f52f389532b4b52bc254/raw/76fe1b5e9efcf0d2afdfd78b0bfaa737ad0a67d3/shakespeare.txt"
      ]
    },
    {
      "cell_type": "code",
      "source": [
        "import re\n",
        "from collections import Counter\n",
        "import numpy as np\n",
        "import nltk\n",
        "\n",
        "# Завантажуємо корпус Gutenberg, що містить твори Шекспіра\n",
        "nltk.download('gutenberg')\n",
        "from nltk.corpus import gutenberg\n",
        "\n",
        "print(\"Бібліотеки та дані NLTK готові до роботи.\")"
      ],
      "metadata": {
        "colab": {
          "base_uri": "https://localhost:8080/"
        },
        "id": "155b0oRmoVoU",
        "outputId": "81f54220-0814-43d4-b511-6c803e876d55"
      },
      "execution_count": 3,
      "outputs": [
        {
          "output_type": "stream",
          "name": "stderr",
          "text": [
            "[nltk_data] Downloading package gutenberg to /root/nltk_data...\n"
          ]
        },
        {
          "output_type": "stream",
          "name": "stdout",
          "text": [
            "Бібліотеки та дані NLTK готові до роботи.\n"
          ]
        },
        {
          "output_type": "stream",
          "name": "stderr",
          "text": [
            "[nltk_data]   Unzipping corpora/gutenberg.zip.\n"
          ]
        }
      ]
    },
    {
      "cell_type": "code",
      "source": [
        "import re\n",
        "from collections import Counter\n",
        "\n",
        "def process_local_file(filepath):\n",
        "    \"\"\"\n",
        "    Читає текстовий файл, очищує його та повертає список слів.\n",
        "    \"\"\"\n",
        "    try:\n",
        "        with open(filepath, 'r', encoding='utf-8') as f:\n",
        "            text = f.read()\n",
        "    except FileNotFoundError:\n",
        "        print(f\"Помилка: файл '{filepath}' не знайдено. Переконайтеся, що ви завантажили його і назва вказана правильно.\")\n",
        "        return []\n",
        "\n",
        "    # Приводимо текст до нижнього регістру\n",
        "    text = text.lower()\n",
        "\n",
        "    # Використовуємо регулярний вираз, щоб знайти всі послідовності літер (слова)\n",
        "    # Це краще, ніж split(), оскільки правильно обробляє пунктуацію\n",
        "    words = re.findall(r'\\b\\w+\\b', text)\n",
        "\n",
        "    return words\n",
        "\n",
        "# --- ОСНОВНА ЧАСТИНА ---\n",
        "\n",
        "\n",
        "my_shakespeare_file = 'shakespeare.txt'\n",
        "\n",
        "# Викликаємо нову функцію для обробки вашого файлу\n",
        "words = process_local_file(my_shakespeare_file)\n",
        "\n",
        "if words:\n",
        "    # Створюємо словник частотності слів\n",
        "    freqs = Counter(words)\n",
        "    vocab = set(words)\n",
        "    total_words = sum(freqs.values())\n",
        "\n",
        "    print(f\"Ваш корпус успішно завантажено. Розмір словника (унікальних слів): {len(vocab)}\")\n",
        "    print(f\"Загальна кількість слів у корпусі: {total_words}\")\n",
        "    print(\"\\nПриклад 5 найпоширеніших слів:\")\n",
        "    print(freqs.most_common(5))\n",
        "else:\n",
        "    print(\"Обробку не виконано через помилку читання файлу.\")"
      ],
      "metadata": {
        "colab": {
          "base_uri": "https://localhost:8080/"
        },
        "id": "_V_YzRbkqZH2",
        "outputId": "f64f8507-ea32-4d90-88d2-74e7deb10ffd"
      },
      "execution_count": 8,
      "outputs": [
        {
          "output_type": "stream",
          "name": "stdout",
          "text": [
            "Ваш корпус успішно завантажено. Розмір словника (унікальних слів): 23723\n",
            "Загальна кількість слів у корпусі: 927610\n",
            "\n",
            "Приклад 5 найпоширеніших слів:\n",
            "[('the', 27594), ('and', 26735), ('i', 22538), ('to', 19771), ('of', 18132)]\n"
          ]
        }
      ]
    },
    {
      "cell_type": "code",
      "source": [
        "def get_probability(word, freqs, total_words):\n",
        "    \"\"\"Розраховує ймовірність появи слова в корпусі.\"\"\"\n",
        "    return freqs.get(word, 0) / total_words\n",
        "\n",
        "# Приклад\n",
        "word_example = 'hamlet'\n",
        "prob_example = get_probability(word_example, freqs, total_words)\n",
        "print(f\"Ймовірність слова '{word_example}': {prob_example:.6f}\")"
      ],
      "metadata": {
        "colab": {
          "base_uri": "https://localhost:8080/"
        },
        "id": "k_1kFdtiqfbB",
        "outputId": "9bbe3182-e3e9-43ad-a717-be342b141f47"
      },
      "execution_count": 9,
      "outputs": [
        {
          "output_type": "stream",
          "name": "stdout",
          "text": [
            "Ймовірність слова 'hamlet': 0.000126\n"
          ]
        }
      ]
    },
    {
      "cell_type": "code",
      "source": [
        "def get_edits_one(word):\n",
        "    \"\"\"\n",
        "    Генерує всі можливі слова на відстані одного редагування.\n",
        "    Повертає set() унікальних слів.\n",
        "    \"\"\"\n",
        "    letters = 'abcdefghijklmnopqrstuvwxyz'\n",
        "    splits = [(word[:i], word[i:]) for i in range(len(word) + 1)]\n",
        "\n",
        "    # Видалення (Delete)\n",
        "    deletes = [L + R[1:] for L, R in splits if R]\n",
        "\n",
        "    # Перестановка (Switch/Transpose)\n",
        "    switches = [L + R[1] + R[0] + R[2:] for L, R in splits if len(R) > 1]\n",
        "\n",
        "    # Заміна (Replace)\n",
        "    replaces = [L + c + R[1:] for L, R in splits if R for c in letters]\n",
        "\n",
        "    # Вставка (Insert)\n",
        "    inserts = [L + c + R for L, R in splits for c in letters]\n",
        "\n",
        "    return set(deletes + switches + replaces + inserts)\n",
        "\n",
        "# Приклад\n",
        "example_word_edit = 'lov'\n",
        "edits = get_edits_one(example_word_edit)\n",
        "print(f\"Згенеровано {len(edits)} варіантів на відстані 1 від слова '{example_word_edit}'.\")\n",
        "print(f\"Приклади: {list(edits)[:5]}\")"
      ],
      "metadata": {
        "colab": {
          "base_uri": "https://localhost:8080/"
        },
        "id": "MHeFhkf-sH09",
        "outputId": "4fa53d79-19b9-4899-9745-6f856e9f8cdd"
      },
      "execution_count": 10,
      "outputs": [
        {
          "output_type": "stream",
          "name": "stdout",
          "text": [
            "Згенеровано 182 варіантів на відстані 1 від слова 'lov'.\n",
            "Приклади: ['lozv', 'loc', 'dov', 'lox', 'hlov']\n"
          ]
        }
      ]
    },
    {
      "cell_type": "code",
      "source": [
        "def get_edits_two(word):\n",
        "    \"\"\"Генерує всі можливі слова на відстані двох редагувань.\"\"\"\n",
        "    return {e2 for e1 in get_edits_one(word) for e2 in get_edits_one(e1)}\n",
        "\n",
        "def get_candidates(word, vocab):\n",
        "    \"\"\"\n",
        "    Повертає список можливих слів-кандидатів для виправлення.\n",
        "    Пріоритет: 1) Оригінальне слово, 2) Слова на відстані 1, 3) Слова на відстані 2.\n",
        "    \"\"\"\n",
        "    # Якщо слово правильне, повертаємо його\n",
        "    if word in vocab:\n",
        "        return {word}\n",
        "\n",
        "    # Шукаємо кандидатів на відстані 1\n",
        "    candidates_d1 = get_edits_one(word)\n",
        "    known_candidates_d1 = candidates_d1.intersection(vocab)\n",
        "    if known_candidates_d1:\n",
        "        return known_candidates_d1\n",
        "\n",
        "    # Якщо на відстані 1 нічого немає, шукаємо на відстані 2\n",
        "    candidates_d2 = get_edits_two(word)\n",
        "    known_candidates_d2 = candidates_d2.intersection(vocab)\n",
        "    if known_candidates_d2:\n",
        "        return known_candidates_d2\n",
        "\n",
        "    # Якщо нічого не знайдено, повертаємо оригінальне слово\n",
        "    return {word}\n",
        "\n",
        "# Приклад\n",
        "misspelled_word = 'kingdmoe' # Помилка у слові 'kingdome'\n",
        "candidates = get_candidates(misspelled_word, vocab)\n",
        "print(f\"Знайдені кандидати для '{misspelled_word}': {candidates}\")"
      ],
      "metadata": {
        "colab": {
          "base_uri": "https://localhost:8080/"
        },
        "id": "Ba7fe3LysJ9F",
        "outputId": "1d83de3c-e91c-4966-f58c-417add9229aa"
      },
      "execution_count": 11,
      "outputs": [
        {
          "output_type": "stream",
          "name": "stdout",
          "text": [
            "Знайдені кандидати для 'kingdmoe': {'kingdom', 'kingdoms'}\n"
          ]
        }
      ]
    },
    {
      "cell_type": "code",
      "source": [
        "def min_edit_distance(source, target):\n",
        "    \"\"\"Обчислює мінімальну відстань редагування між двома словами.\"\"\"\n",
        "    m, n = len(source), len(target)\n",
        "    dp = np.zeros((m + 1, n + 1), dtype=int)\n",
        "\n",
        "    for i in range(m + 1):\n",
        "        dp[i, 0] = i\n",
        "    for j in range(n + 1):\n",
        "        dp[0, j] = j\n",
        "\n",
        "    for i in range(1, m + 1):\n",
        "        for j in range(1, n + 1):\n",
        "            cost = 0 if source[i - 1] == target[j - 1] else 1\n",
        "            dp[i, j] = min(dp[i - 1, j] + 1,        # Deletion\n",
        "                           dp[i, j - 1] + 1,        # Insertion\n",
        "                           dp[i - 1, j - 1] + cost) # Substitution\n",
        "\n",
        "    return dp[m, n]\n",
        "\n",
        "# Приклад\n",
        "dist = min_edit_distance(\"apple\", \"apply\")\n",
        "print(f\"Мінімальна відстань редагування між 'apple' та 'apply': {dist}\")"
      ],
      "metadata": {
        "colab": {
          "base_uri": "https://localhost:8080/"
        },
        "id": "MvyhWLqxsNDF",
        "outputId": "f7777830-f90f-4810-cfa1-ba451cdfc390"
      },
      "execution_count": 12,
      "outputs": [
        {
          "output_type": "stream",
          "name": "stdout",
          "text": [
            "Мінімальна відстань редагування між 'apple' та 'apply': 1\n"
          ]
        }
      ]
    },
    {
      "cell_type": "code",
      "source": [
        "def autocorrect(word, vocab, freqs, total_words):\n",
        "    \"\"\"\n",
        "    Основна функція автокорекції.\n",
        "    Знаходить найкраще виправлення для слова.\n",
        "    \"\"\"\n",
        "    word = word.lower()\n",
        "\n",
        "    # Отримуємо список кандидатів\n",
        "    candidates = get_candidates(word, vocab)\n",
        "\n",
        "    # Якщо кандидатів немає, повертаємо оригінальне слово\n",
        "    if not candidates:\n",
        "        return word\n",
        "\n",
        "    # Обираємо кандидата з найвищою ймовірністю\n",
        "    best_candidate = max(candidates, key=lambda c: get_probability(c, freqs, total_words))\n",
        "\n",
        "    return best_candidate\n",
        "\n",
        "# Приклад використання\n",
        "corrected_word = autocorrect('hamletz', vocab, freqs, total_words)\n",
        "print(f\"Виправлення для 'hamletz': {corrected_word}\")\n",
        "\n",
        "corrected_word_2 = autocorrect('caeser', vocab, freqs, total_words)\n",
        "print(f\"Виправлення для 'caeser': {corrected_word_2}\")"
      ],
      "metadata": {
        "colab": {
          "base_uri": "https://localhost:8080/"
        },
        "id": "jisA_nMTsQFM",
        "outputId": "a9c11b4a-4812-401b-a974-9259608432f4"
      },
      "execution_count": 13,
      "outputs": [
        {
          "output_type": "stream",
          "name": "stdout",
          "text": [
            "Виправлення для 'hamletz': hamlet\n",
            "Виправлення для 'caeser': caesar\n"
          ]
        }
      ]
    },
    {
      "cell_type": "code",
      "source": [
        "def evaluate_autocorrect(test_data, vocab, freqs, total_words):\n",
        "    \"\"\"Оцінює точність системи автокорекції.\"\"\"\n",
        "    correct_predictions = 0\n",
        "    total_tests = len(test_data)\n",
        "\n",
        "    for misspelled, correct in test_data:\n",
        "        prediction = autocorrect(misspelled, vocab, freqs, total_words)\n",
        "        if prediction == correct:\n",
        "            correct_predictions += 1\n",
        "        print(f\"Слово: '{misspelled}', Виправлення: '{prediction}', Правильно: '{correct}' -> {'OK' if prediction == correct else 'FAIL'}\")\n",
        "\n",
        "    accuracy = (correct_predictions / total_tests) * 100\n",
        "    return accuracy\n",
        "\n",
        "# Тестовий набір (помилка, правильне слово)\n",
        "test_data = [\n",
        "    ('thee', 'the'),\n",
        "    ('quene', 'queen'),\n",
        "    ('thou', 'thou'), # Правильне слово має бути повернуто як є\n",
        "    ('learne', 'learn'),\n",
        "    ('hamletz', 'hamlet'),\n",
        "    ('kingdmoe', 'kingdom')\n",
        "]\n",
        "\n",
        "accuracy = evaluate_autocorrect(test_data, vocab, freqs, total_words)\n",
        "print(f\"\\nПідсумкова точність системи: {accuracy:.2f}%\")"
      ],
      "metadata": {
        "colab": {
          "base_uri": "https://localhost:8080/"
        },
        "id": "bvikZr_AsSq8",
        "outputId": "78b44273-277b-486c-f492-d5904c77aac4"
      },
      "execution_count": 16,
      "outputs": [
        {
          "output_type": "stream",
          "name": "stdout",
          "text": [
            "Слово: 'thee', Виправлення: 'thee', Правильно: 'the' -> FAIL\n",
            "Слово: 'quene', Виправлення: 'queen', Правильно: 'queen' -> OK\n",
            "Слово: 'thou', Виправлення: 'thou', Правильно: 'thou' -> OK\n",
            "Слово: 'learne', Виправлення: 'learn', Правильно: 'learn' -> OK\n",
            "Слово: 'hamletz', Виправлення: 'hamlet', Правильно: 'hamlet' -> OK\n",
            "Слово: 'kingdmoe', Виправлення: 'kingdom', Правильно: 'kingdom' -> OK\n",
            "\n",
            "Підсумкова точність системи: 83.33%\n"
          ]
        }
      ]
    },
    {
      "cell_type": "code",
      "source": [],
      "metadata": {
        "id": "qlVrh-OnsVrR"
      },
      "execution_count": null,
      "outputs": []
    }
  ]
}