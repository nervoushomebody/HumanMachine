{
  "nbformat": 4,
  "nbformat_minor": 0,
  "metadata": {
    "colab": {
      "provenance": []
    },
    "kernelspec": {
      "name": "python3",
      "display_name": "Python 3"
    },
    "language_info": {
      "name": "python"
    }
  },
  "cells": [
    {
      "cell_type": "code",
      "source": [
        "!wget https://lang.org.ua/static/downloads/models/ubercorpus.cased.tokenized.word2vec.300d.bz2\n"
      ],
      "metadata": {
        "colab": {
          "base_uri": "https://localhost:8080/"
        },
        "id": "SaXKwlaItn1X",
        "outputId": "408634f8-02ac-4a14-8aa3-fa71d4896738"
      },
      "execution_count": 5,
      "outputs": [
        {
          "output_type": "stream",
          "name": "stdout",
          "text": [
            "--2025-06-26 19:29:12--  https://lang.org.ua/static/downloads/models/ubercorpus.cased.tokenized.word2vec.300d.bz2\n",
            "Resolving lang.org.ua (lang.org.ua)... 65.21.91.242\n",
            "Connecting to lang.org.ua (lang.org.ua)|65.21.91.242|:443... connected.\n",
            "HTTP request sent, awaiting response... 200 OK\n",
            "Length: 555203899 (529M) [application/octet-stream]\n",
            "Saving to: ‘ubercorpus.cased.tokenized.word2vec.300d.bz2’\n",
            "\n",
            "ubercorpus.cased.to 100%[===================>] 529.48M  24.6MB/s    in 22s     \n",
            "\n",
            "2025-06-26 19:29:36 (23.6 MB/s) - ‘ubercorpus.cased.tokenized.word2vec.300d.bz2’ saved [555203899/555203899]\n",
            "\n"
          ]
        }
      ]
    },
    {
      "cell_type": "code",
      "source": [
        "!bzip2 -dk ubercorpus.cased.tokenized.word2vec.300d.bz2"
      ],
      "metadata": {
        "id": "8eZ05mSkt1pt"
      },
      "execution_count": 6,
      "outputs": []
    },
    {
      "cell_type": "code",
      "execution_count": 1,
      "metadata": {
        "colab": {
          "base_uri": "https://localhost:8080/",
          "height": 1000
        },
        "id": "FPShBEq2s23R",
        "outputId": "24859e76-a40e-4b7a-d570-829695ca9fea"
      },
      "outputs": [
        {
          "output_type": "stream",
          "name": "stdout",
          "text": [
            "Collecting gensim\n",
            "  Downloading gensim-4.3.3-cp311-cp311-manylinux_2_17_x86_64.manylinux2014_x86_64.whl.metadata (8.1 kB)\n",
            "Collecting pymorphy3\n",
            "  Downloading pymorphy3-2.0.4-py3-none-any.whl.metadata (2.4 kB)\n",
            "Collecting pymorphy3-dicts-uk\n",
            "  Downloading pymorphy3_dicts_uk-2.4.1.1.1663094765-py2.py3-none-any.whl.metadata (2.0 kB)\n",
            "Requirement already satisfied: scikit-learn in /usr/local/lib/python3.11/dist-packages (1.6.1)\n",
            "Requirement already satisfied: matplotlib in /usr/local/lib/python3.11/dist-packages (3.10.0)\n",
            "Collecting numpy<2.0,>=1.18.5 (from gensim)\n",
            "  Downloading numpy-1.26.4-cp311-cp311-manylinux_2_17_x86_64.manylinux2014_x86_64.whl.metadata (61 kB)\n",
            "\u001b[2K     \u001b[90m━━━━━━━━━━━━━━━━━━━━━━━━━━━━━━━━━━━━━━━━\u001b[0m \u001b[32m61.0/61.0 kB\u001b[0m \u001b[31m2.1 MB/s\u001b[0m eta \u001b[36m0:00:00\u001b[0m\n",
            "\u001b[?25hCollecting scipy<1.14.0,>=1.7.0 (from gensim)\n",
            "  Downloading scipy-1.13.1-cp311-cp311-manylinux_2_17_x86_64.manylinux2014_x86_64.whl.metadata (60 kB)\n",
            "\u001b[2K     \u001b[90m━━━━━━━━━━━━━━━━━━━━━━━━━━━━━━━━━━━━━━━━\u001b[0m \u001b[32m60.6/60.6 kB\u001b[0m \u001b[31m4.0 MB/s\u001b[0m eta \u001b[36m0:00:00\u001b[0m\n",
            "\u001b[?25hRequirement already satisfied: smart-open>=1.8.1 in /usr/local/lib/python3.11/dist-packages (from gensim) (7.1.0)\n",
            "Collecting dawg2-python>=0.8.0 (from pymorphy3)\n",
            "  Downloading dawg2_python-0.9.0-py3-none-any.whl.metadata (7.5 kB)\n",
            "Collecting pymorphy3-dicts-ru (from pymorphy3)\n",
            "  Downloading pymorphy3_dicts_ru-2.4.417150.4580142-py2.py3-none-any.whl.metadata (2.0 kB)\n",
            "Requirement already satisfied: joblib>=1.2.0 in /usr/local/lib/python3.11/dist-packages (from scikit-learn) (1.5.1)\n",
            "Requirement already satisfied: threadpoolctl>=3.1.0 in /usr/local/lib/python3.11/dist-packages (from scikit-learn) (3.6.0)\n",
            "Requirement already satisfied: contourpy>=1.0.1 in /usr/local/lib/python3.11/dist-packages (from matplotlib) (1.3.2)\n",
            "Requirement already satisfied: cycler>=0.10 in /usr/local/lib/python3.11/dist-packages (from matplotlib) (0.12.1)\n",
            "Requirement already satisfied: fonttools>=4.22.0 in /usr/local/lib/python3.11/dist-packages (from matplotlib) (4.58.4)\n",
            "Requirement already satisfied: kiwisolver>=1.3.1 in /usr/local/lib/python3.11/dist-packages (from matplotlib) (1.4.8)\n",
            "Requirement already satisfied: packaging>=20.0 in /usr/local/lib/python3.11/dist-packages (from matplotlib) (24.2)\n",
            "Requirement already satisfied: pillow>=8 in /usr/local/lib/python3.11/dist-packages (from matplotlib) (11.2.1)\n",
            "Requirement already satisfied: pyparsing>=2.3.1 in /usr/local/lib/python3.11/dist-packages (from matplotlib) (3.2.3)\n",
            "Requirement already satisfied: python-dateutil>=2.7 in /usr/local/lib/python3.11/dist-packages (from matplotlib) (2.9.0.post0)\n",
            "Requirement already satisfied: six>=1.5 in /usr/local/lib/python3.11/dist-packages (from python-dateutil>=2.7->matplotlib) (1.17.0)\n",
            "Requirement already satisfied: wrapt in /usr/local/lib/python3.11/dist-packages (from smart-open>=1.8.1->gensim) (1.17.2)\n",
            "Downloading gensim-4.3.3-cp311-cp311-manylinux_2_17_x86_64.manylinux2014_x86_64.whl (26.7 MB)\n",
            "\u001b[2K   \u001b[90m━━━━━━━━━━━━━━━━━━━━━━━━━━━━━━━━━━━━━━━━\u001b[0m \u001b[32m26.7/26.7 MB\u001b[0m \u001b[31m69.4 MB/s\u001b[0m eta \u001b[36m0:00:00\u001b[0m\n",
            "\u001b[?25hDownloading pymorphy3-2.0.4-py3-none-any.whl (54 kB)\n",
            "\u001b[2K   \u001b[90m━━━━━━━━━━━━━━━━━━━━━━━━━━━━━━━━━━━━━━━━\u001b[0m \u001b[32m54.1/54.1 kB\u001b[0m \u001b[31m4.0 MB/s\u001b[0m eta \u001b[36m0:00:00\u001b[0m\n",
            "\u001b[?25hDownloading pymorphy3_dicts_uk-2.4.1.1.1663094765-py2.py3-none-any.whl (8.2 MB)\n",
            "\u001b[2K   \u001b[90m━━━━━━━━━━━━━━━━━━━━━━━━━━━━━━━━━━━━━━━━\u001b[0m \u001b[32m8.2/8.2 MB\u001b[0m \u001b[31m103.6 MB/s\u001b[0m eta \u001b[36m0:00:00\u001b[0m\n",
            "\u001b[?25hDownloading dawg2_python-0.9.0-py3-none-any.whl (9.3 kB)\n",
            "Downloading numpy-1.26.4-cp311-cp311-manylinux_2_17_x86_64.manylinux2014_x86_64.whl (18.3 MB)\n",
            "\u001b[2K   \u001b[90m━━━━━━━━━━━━━━━━━━━━━━━━━━━━━━━━━━━━━━━━\u001b[0m \u001b[32m18.3/18.3 MB\u001b[0m \u001b[31m80.9 MB/s\u001b[0m eta \u001b[36m0:00:00\u001b[0m\n",
            "\u001b[?25hDownloading scipy-1.13.1-cp311-cp311-manylinux_2_17_x86_64.manylinux2014_x86_64.whl (38.6 MB)\n",
            "\u001b[2K   \u001b[90m━━━━━━━━━━━━━━━━━━━━━━━━━━━━━━━━━━━━━━━━\u001b[0m \u001b[32m38.6/38.6 MB\u001b[0m \u001b[31m15.2 MB/s\u001b[0m eta \u001b[36m0:00:00\u001b[0m\n",
            "\u001b[?25hDownloading pymorphy3_dicts_ru-2.4.417150.4580142-py2.py3-none-any.whl (8.4 MB)\n",
            "\u001b[2K   \u001b[90m━━━━━━━━━━━━━━━━━━━━━━━━━━━━━━━━━━━━━━━━\u001b[0m \u001b[32m8.4/8.4 MB\u001b[0m \u001b[31m99.5 MB/s\u001b[0m eta \u001b[36m0:00:00\u001b[0m\n",
            "\u001b[?25hInstalling collected packages: pymorphy3-dicts-uk, pymorphy3-dicts-ru, numpy, dawg2-python, scipy, pymorphy3, gensim\n",
            "  Attempting uninstall: numpy\n",
            "    Found existing installation: numpy 2.0.2\n",
            "    Uninstalling numpy-2.0.2:\n",
            "      Successfully uninstalled numpy-2.0.2\n",
            "  Attempting uninstall: scipy\n",
            "    Found existing installation: scipy 1.15.3\n",
            "    Uninstalling scipy-1.15.3:\n",
            "      Successfully uninstalled scipy-1.15.3\n",
            "\u001b[31mERROR: pip's dependency resolver does not currently take into account all the packages that are installed. This behaviour is the source of the following dependency conflicts.\n",
            "tsfresh 0.21.0 requires scipy>=1.14.0; python_version >= \"3.10\", but you have scipy 1.13.1 which is incompatible.\n",
            "thinc 8.3.6 requires numpy<3.0.0,>=2.0.0, but you have numpy 1.26.4 which is incompatible.\u001b[0m\u001b[31m\n",
            "\u001b[0mSuccessfully installed dawg2-python-0.9.0 gensim-4.3.3 numpy-1.26.4 pymorphy3-2.0.4 pymorphy3-dicts-ru-2.4.417150.4580142 pymorphy3-dicts-uk-2.4.1.1.1663094765 scipy-1.13.1\n"
          ]
        },
        {
          "output_type": "display_data",
          "data": {
            "application/vnd.colab-display-data+json": {
              "pip_warning": {
                "packages": [
                  "numpy"
                ]
              },
              "id": "01369b5978f74d1da3387743dac5d2d7"
            }
          },
          "metadata": {}
        }
      ],
      "source": [
        "!pip install gensim pymorphy3 pymorphy3-dicts-uk scikit-learn matplotlib"
      ]
    },
    {
      "cell_type": "code",
      "source": [
        "import gensim\n",
        "import numpy as np\n",
        "import pymorphy3\n",
        "from sklearn.decomposition import PCA\n",
        "import matplotlib.pyplot as plt\n",
        "\n",
        "print(\"Бібліотеки успішно імпортовано.\")"
      ],
      "metadata": {
        "colab": {
          "base_uri": "https://localhost:8080/"
        },
        "id": "oZQTujris8Oo",
        "outputId": "ccded8ca-fde1-4a3f-8ad4-fcf00f76cdd7"
      },
      "execution_count": 1,
      "outputs": [
        {
          "output_type": "stream",
          "name": "stdout",
          "text": [
            "Бібліотеки успішно імпортовано.\n"
          ]
        }
      ]
    },
    {
      "cell_type": "code",
      "source": [
        "# Набір аналогій на тему родинних зв'язків\n",
        "# ВИПРАВЛЕНИЙ набір аналогій\n",
        "# Формат: (A, B, C, D) де B - A + C ≈ D\n",
        "# Приклад: ('чоловік', 'жінка', 'син', 'дочка') -> жінка - чоловік + син = дочка (гендерна аналогія)\n",
        "family_analogies_corrected = [\n",
        "    ('чоловік', 'жінка', 'син', 'дочка'),\n",
        "    ('батько', 'мати', 'хлопчик', 'дівчинка'),\n",
        "    ('дідусь', 'бабуся', 'юнак', 'дівчина'),\n",
        "    ('брат', 'сестра', 'онук', 'онука'),\n",
        "    ('король', 'королева', 'принц', 'принцеса'), # Класична перевірочна аналогія\n",
        "    ('дядько', 'тітка', 'племінник', 'племінниця')\n",
        "]\n",
        "\n",
        "print(f\"Створено набір з {len(family_analogies)} аналогій.\")"
      ],
      "metadata": {
        "colab": {
          "base_uri": "https://localhost:8080/"
        },
        "id": "dIPr2ee8tPr2",
        "outputId": "f53dd5b0-9599-4353-ca7e-c4a53b722f94"
      },
      "execution_count": 16,
      "outputs": [
        {
          "output_type": "stream",
          "name": "stdout",
          "text": [
            "Створено набір з 6 аналогій.\n"
          ]
        }
      ]
    },
    {
      "cell_type": "code",
      "source": [
        "# Шлях до вашого файлу з моделлю\n",
        "model_path = 'ubercorpus.cased.tokenized.word2vec.300d.bz2'\n",
        "\n",
        "print(\"Завантаження моделі... Це може зайняти деякий час.\")\n",
        "# Завантажуємо модель\n",
        "# Якщо у вас мало пам'яті, можете додати параметр limit=200000 для завантаження частини моделі\n",
        "model = gensim.models.KeyedVectors.load_word2vec_format(model_path, binary=False)\n",
        "print(\"Модель успішно завантажено.\")\n",
        "\n",
        "# Ініціалізуємо pymorphy3 для нормалізації слів\n",
        "morph = pymorphy3.MorphAnalyzer(lang='uk')"
      ],
      "metadata": {
        "colab": {
          "base_uri": "https://localhost:8080/"
        },
        "id": "aY4AlZdLtSKu",
        "outputId": "0949ae59-34f4-4d01-d375-98e5ee78d39e"
      },
      "execution_count": 17,
      "outputs": [
        {
          "output_type": "stream",
          "name": "stdout",
          "text": [
            "Завантаження моделі... Це може зайняти деякий час.\n",
            "Модель успішно завантажено.\n"
          ]
        }
      ]
    },
    {
      "cell_type": "code",
      "source": [
        "def cosine_similarity(vec1, vec2):\n",
        "    \"\"\"Обчислює косинусну подібність між двома векторами.\"\"\"\n",
        "    dot_product = np.dot(vec1, vec2)\n",
        "    norm_vec1 = np.linalg.norm(vec1)\n",
        "    norm_vec2 = np.linalg.norm(vec2)\n",
        "    return dot_product / (norm_vec1 * norm_vec2)\n",
        "\n",
        "def euclidean_distance(vec1, vec2):\n",
        "    \"\"\"Обчислює евклідову відстань між двома векторами.\"\"\"\n",
        "    return np.linalg.norm(vec1 - vec2)\n",
        "\n",
        "# Перевірка роботи функцій\n",
        "word1 = 'мама'\n",
        "word2 = 'мати'\n",
        "\n",
        "if word1 in model and word2 in model:\n",
        "    vec1 = model[word1]\n",
        "    vec2 = model[word2]\n",
        "\n",
        "    cos_sim = cosine_similarity(vec1, vec2)\n",
        "    euc_dist = euclidean_distance(vec1, vec2)\n",
        "\n",
        "    print(f\"Косинусна подібність між '{word1}' та '{word2}': {cos_sim:.4f}\")\n",
        "    print(f\"Евклідова відстань між '{word1}' та '{word2}': {euc_dist:.4f}\")"
      ],
      "metadata": {
        "colab": {
          "base_uri": "https://localhost:8080/"
        },
        "id": "fNU_zT6xtUrV",
        "outputId": "0f89dd92-ba83-4418-b511-afbe4e973bb1"
      },
      "execution_count": 18,
      "outputs": [
        {
          "output_type": "stream",
          "name": "stdout",
          "text": [
            "Косинусна подібність між 'мама' та 'мати': 0.4095\n",
            "Евклідова відстань між 'мама' та 'мати': 28.4254\n"
          ]
        }
      ]
    },
    {
      "cell_type": "code",
      "source": [
        "def normalize_word(word, morph_analyzer):\n",
        "    \"\"\"Повертає нормальну форму слова.\"\"\"\n",
        "    return morph_analyzer.parse(word)[0].normal_form\n",
        "\n",
        "def find_analogy(word_a, word_b, word_c, model, morph_analyzer):\n",
        "    \"\"\"\n",
        "    Знаходить слово d для аналогії a:b::c:d (b - a + c = d).\n",
        "    Наприклад: find_analogy('син', 'батько', 'дочка', model) -> 'мати'\n",
        "    \"\"\"\n",
        "    # Нормалізуємо слова\n",
        "    word_a_norm = normalize_word(word_a, morph_analyzer)\n",
        "    word_b_norm = normalize_word(word_b, morph_analyzer)\n",
        "    word_c_norm = normalize_word(word_c, morph_analyzer)\n",
        "\n",
        "    # Перевіряємо, чи всі слова є в моделі\n",
        "    for w in [word_a_norm, word_b_norm, word_c_norm]:\n",
        "        if w not in model:\n",
        "            # print(f\"Слово '{w}' відсутнє в моделі.\")\n",
        "            return None\n",
        "\n",
        "    # Використовуємо most_similar для пошуку аналогії\n",
        "    # b - a + c\n",
        "    most_similar = model.most_similar(positive=[word_b_norm, word_c_norm], negative=[word_a_norm], topn=1)\n",
        "\n",
        "    return most_similar[0][0]\n",
        "\n",
        "# Тестування функції\n",
        "predicted_word = find_analogy('син', 'батько', 'дочка', model, morph)\n",
        "print(f\"Аналогія 'батько' - 'син' + 'дочка' = '{predicted_word}'\")"
      ],
      "metadata": {
        "colab": {
          "base_uri": "https://localhost:8080/"
        },
        "id": "-YcwuRlX3MzL",
        "outputId": "417e77ac-21ae-43bb-af97-6a78afb62991"
      },
      "execution_count": 19,
      "outputs": [
        {
          "output_type": "stream",
          "name": "stdout",
          "text": [
            "Аналогія 'батько' - 'син' + 'дочка' = 'мама'\n"
          ]
        }
      ]
    },
    {
      "cell_type": "code",
      "source": [
        "correct_predictions = 0\n",
        "total_analogies = len(family_analogies)\n",
        "\n",
        "print(\"\\n--- Тестування аналогій ---\")\n",
        "for a, b, c, expected_d in family_analogies:\n",
        "    # Нормалізуємо очікуваний результат для коректного порівняння\n",
        "    expected_d_norm = normalize_word(expected_d, morph)\n",
        "\n",
        "    predicted_d = find_analogy(a, b, c, model, morph)\n",
        "\n",
        "    if predicted_d:\n",
        "        predicted_d_norm = normalize_word(predicted_d, morph)\n",
        "    else:\n",
        "        predicted_d_norm = \"СЛОВО ВІДСУТНЄ\"\n",
        "\n",
        "    is_correct = (predicted_d_norm == expected_d_norm)\n",
        "    if is_correct:\n",
        "        correct_predictions += 1\n",
        "\n",
        "    result_str = \"Правильно\" if is_correct else \"Неправильно\"\n",
        "    print(f\"'{b}' - '{a}' + '{c}' = '{predicted_d_norm}' (очікувалося: '{expected_d_norm}') -> {result_str}\")\n",
        "\n",
        "# Розрахунок точності\n",
        "accuracy = (correct_predictions / total_analogies) * 100\n",
        "print(\"\\n--- Результат ---\")\n",
        "print(f\"Правильно знайдено: {correct_predictions} з {total_analogies}\")\n",
        "print(f\"Точність (Accuracy): {accuracy:.2f}%\")"
      ],
      "metadata": {
        "colab": {
          "base_uri": "https://localhost:8080/"
        },
        "id": "YDzPPZYT3Qqw",
        "outputId": "754207d1-8209-47aa-acc1-e20a6b40fe1e"
      },
      "execution_count": 21,
      "outputs": [
        {
          "output_type": "stream",
          "name": "stdout",
          "text": [
            "\n",
            "--- Тестування аналогій ---\n",
            "'чоловік' - 'хлопчик' + 'жінка' = 'людин' (очікувалося: 'дівчинка') -> Неправильно\n",
            "'батько' - 'син' + 'мати' = 'презерватив' (очікувалося: 'дочка') -> Неправильно\n",
            "'дідусь' - 'онук' + 'бабуся' = 'бабець' (очікувалося: 'онук') -> Неправильно\n",
            "'чоловік' - 'юнак' + 'дружина' = 'донька' (очікувалося: 'дівчина') -> Неправильно\n",
            "'брат' - 'племінник' + 'сестра' = 'сестричка' (очікувалося: 'племінниця') -> Неправильно\n",
            "'дядько' - 'син' + 'тітка' = 'бабець' (очікувалося: 'дочка') -> Неправильно\n",
            "\n",
            "--- Результат ---\n",
            "Правильно знайдено: 0 з 6\n",
            "Точність (Accuracy): 0.00%\n"
          ]
        }
      ]
    },
    {
      "cell_type": "code",
      "source": [
        "# --- ДІАГНОСТИЧНИЙ БЛОК КОДУ ---\n",
        "\n",
        "# Виберемо одну, логічно правильну аналогію\n",
        "a, b, c, expected_d = ('батько', 'мати', 'син', 'дочка')\n",
        "\n",
        "print(f\"--- Діагностика аналогії: '{b}' - '{a}' + '{c}' ≈ '{expected_d}' ---\")\n",
        "\n",
        "# Крок 1: Перевіряємо наявність слів у моделі\n",
        "print(\"\\nКрок 1: Перевірка наявності слів у моделі\")\n",
        "words_to_check = [a, b, c, expected_d]\n",
        "all_words_present = True\n",
        "for word in words_to_check:\n",
        "    if word in model:\n",
        "        print(f\"Слово '{word}' ПРИСУТНЄ в моделі.\")\n",
        "    else:\n",
        "        print(f\"!!! Слово '{word}' ВІДСУТНЄ в моделі. Це може бути причиною помилки.\")\n",
        "        all_words_present = False\n",
        "\n",
        "if not all_words_present:\n",
        "    print(\"\\nДіагностику зупинено, оскільки не всі слова є у словнику моделі.\")\n",
        "else:\n",
        "    # Крок 2: Перевіряємо базову семантичну близькість\n",
        "    print(\"\\nКрок 2: Перевірка базової семантичної близькості (косинусна подібність)\")\n",
        "    print(f\"Подібність 'мати' і 'дочка': {model.similarity('мати', 'дочка'):.4f}\")\n",
        "    print(f\"Подібність 'батько' і 'син': {model.similarity('батько', 'син'):.4f}\")\n",
        "    print(f\"Подібність 'мати' і 'батько': {model.similarity('мати', 'батько'):.4f}\")\n",
        "    print(f\"Подібність 'дочка' і 'презерватив': {model.similarity('дочка', 'презерватив'):.4f}\") # Порівняємо з дивним результатом\n",
        "\n",
        "    # Крок 3: Обчислюємо вектор аналогії вручну\n",
        "    print(\"\\nКрок 3: Обчислення результуючого вектора вручну\")\n",
        "    try:\n",
        "        # Векторна операція: B - A + C\n",
        "        target_vector = model[b] - model[a] + model[c]\n",
        "        print(\"Вектор аналогії успішно розраховано.\")\n",
        "\n",
        "        # Крок 4: Шукаємо найближчі слова до нашого вектора\n",
        "        print(f\"\\nКрок 4: 10 найближчих слів до результуючого вектора ('{b}' - '{a}' + '{c}')\")\n",
        "        # Використовуємо most_similar з розрахованим вектором\n",
        "        similar_words = model.most_similar(positive=[target_vector], topn=10)\n",
        "\n",
        "        for i, (word, score) in enumerate(similar_words):\n",
        "            print(f\"{i+1}. '{word}' (подібність: {score:.4f})\")\n",
        "\n",
        "    except KeyError as e:\n",
        "        print(f\"Помилка при доступі до слова: {e}. Перевірте, чи правильно воно написане.\")"
      ],
      "metadata": {
        "colab": {
          "base_uri": "https://localhost:8080/"
        },
        "id": "69zNJ3mB3ahP",
        "outputId": "03e8d613-cd1b-4f73-d177-c08343b4def9"
      },
      "execution_count": 22,
      "outputs": [
        {
          "output_type": "stream",
          "name": "stdout",
          "text": [
            "--- Діагностика аналогії: 'мати' - 'батько' + 'син' ≈ 'дочка' ---\n",
            "\n",
            "Крок 1: Перевірка наявності слів у моделі\n",
            "Слово 'батько' ПРИСУТНЄ в моделі.\n",
            "Слово 'мати' ПРИСУТНЄ в моделі.\n",
            "Слово 'син' ПРИСУТНЄ в моделі.\n",
            "Слово 'дочка' ПРИСУТНЄ в моделі.\n",
            "\n",
            "Крок 2: Перевірка базової семантичної близькості (косинусна подібність)\n",
            "Подібність 'мати' і 'дочка': 0.2188\n",
            "Подібність 'батько' і 'син': 0.7673\n",
            "Подібність 'мати' і 'батько': 0.1343\n",
            "Подібність 'дочка' і 'презерватив': -0.0088\n",
            "\n",
            "Крок 3: Обчислення результуючого вектора вручну\n",
            "Вектор аналогії успішно розраховано.\n",
            "\n",
            "Крок 4: 10 найближчих слів до результуючого вектора ('мати' - 'батько' + 'син')\n",
            "1. 'мати' (подібність: 0.8456)\n",
            "2. 'отримати' (подібність: 0.5795)\n",
            "3. 'одержати' (подібність: 0.5500)\n",
            "4. 'успадковувати' (подібність: 0.5468)\n",
            "5. 'успадкувати' (подібність: 0.5364)\n",
            "6. 'отримувати' (подібність: 0.5325)\n",
            "7. 'носити' (подібність: 0.5264)\n",
            "8. 'бачити' (подібність: 0.5204)\n",
            "9. 'утворювати' (подібність: 0.5182)\n",
            "10. 'втратити' (подібність: 0.5160)\n"
          ]
        }
      ]
    },
    {
      "cell_type": "code",
      "source": [],
      "metadata": {
        "id": "GaoKHEjv9Tl6"
      },
      "execution_count": null,
      "outputs": []
    }
  ]
}