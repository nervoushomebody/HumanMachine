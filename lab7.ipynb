{
  "nbformat": 4,
  "nbformat_minor": 0,
  "metadata": {
    "colab": {
      "provenance": []
    },
    "kernelspec": {
      "name": "python3",
      "display_name": "Python 3"
    },
    "language_info": {
      "name": "python"
    }
  },
  "cells": [
    {
      "cell_type": "code",
      "execution_count": 1,
      "metadata": {
        "colab": {
          "base_uri": "https://localhost:8080/"
        },
        "id": "7ShFOd1J_WBy",
        "outputId": "babc22f6-b7d6-4515-9446-d5a711d33be4"
      },
      "outputs": [
        {
          "output_type": "stream",
          "name": "stdout",
          "text": [
            "Requirement already satisfied: nltk in /usr/local/lib/python3.11/dist-packages (3.9.1)\n",
            "Requirement already satisfied: ipywidgets in /usr/local/lib/python3.11/dist-packages (7.7.1)\n",
            "Requirement already satisfied: click in /usr/local/lib/python3.11/dist-packages (from nltk) (8.2.1)\n",
            "Requirement already satisfied: joblib in /usr/local/lib/python3.11/dist-packages (from nltk) (1.5.1)\n",
            "Requirement already satisfied: regex>=2021.8.3 in /usr/local/lib/python3.11/dist-packages (from nltk) (2024.11.6)\n",
            "Requirement already satisfied: tqdm in /usr/local/lib/python3.11/dist-packages (from nltk) (4.67.1)\n",
            "Requirement already satisfied: ipykernel>=4.5.1 in /usr/local/lib/python3.11/dist-packages (from ipywidgets) (6.17.1)\n",
            "Requirement already satisfied: ipython-genutils~=0.2.0 in /usr/local/lib/python3.11/dist-packages (from ipywidgets) (0.2.0)\n",
            "Requirement already satisfied: traitlets>=4.3.1 in /usr/local/lib/python3.11/dist-packages (from ipywidgets) (5.7.1)\n",
            "Requirement already satisfied: widgetsnbextension~=3.6.0 in /usr/local/lib/python3.11/dist-packages (from ipywidgets) (3.6.10)\n",
            "Requirement already satisfied: ipython>=4.0.0 in /usr/local/lib/python3.11/dist-packages (from ipywidgets) (7.34.0)\n",
            "Requirement already satisfied: jupyterlab-widgets>=1.0.0 in /usr/local/lib/python3.11/dist-packages (from ipywidgets) (3.0.15)\n",
            "Requirement already satisfied: debugpy>=1.0 in /usr/local/lib/python3.11/dist-packages (from ipykernel>=4.5.1->ipywidgets) (1.8.0)\n",
            "Requirement already satisfied: jupyter-client>=6.1.12 in /usr/local/lib/python3.11/dist-packages (from ipykernel>=4.5.1->ipywidgets) (6.1.12)\n",
            "Requirement already satisfied: matplotlib-inline>=0.1 in /usr/local/lib/python3.11/dist-packages (from ipykernel>=4.5.1->ipywidgets) (0.1.7)\n",
            "Requirement already satisfied: nest-asyncio in /usr/local/lib/python3.11/dist-packages (from ipykernel>=4.5.1->ipywidgets) (1.6.0)\n",
            "Requirement already satisfied: packaging in /usr/local/lib/python3.11/dist-packages (from ipykernel>=4.5.1->ipywidgets) (24.2)\n",
            "Requirement already satisfied: psutil in /usr/local/lib/python3.11/dist-packages (from ipykernel>=4.5.1->ipywidgets) (5.9.5)\n",
            "Requirement already satisfied: pyzmq>=17 in /usr/local/lib/python3.11/dist-packages (from ipykernel>=4.5.1->ipywidgets) (24.0.1)\n",
            "Requirement already satisfied: tornado>=6.1 in /usr/local/lib/python3.11/dist-packages (from ipykernel>=4.5.1->ipywidgets) (6.4.2)\n",
            "Requirement already satisfied: setuptools>=18.5 in /usr/local/lib/python3.11/dist-packages (from ipython>=4.0.0->ipywidgets) (75.2.0)\n",
            "Collecting jedi>=0.16 (from ipython>=4.0.0->ipywidgets)\n",
            "  Downloading jedi-0.19.2-py2.py3-none-any.whl.metadata (22 kB)\n",
            "Requirement already satisfied: decorator in /usr/local/lib/python3.11/dist-packages (from ipython>=4.0.0->ipywidgets) (4.4.2)\n",
            "Requirement already satisfied: pickleshare in /usr/local/lib/python3.11/dist-packages (from ipython>=4.0.0->ipywidgets) (0.7.5)\n",
            "Requirement already satisfied: prompt-toolkit!=3.0.0,!=3.0.1,<3.1.0,>=2.0.0 in /usr/local/lib/python3.11/dist-packages (from ipython>=4.0.0->ipywidgets) (3.0.51)\n",
            "Requirement already satisfied: pygments in /usr/local/lib/python3.11/dist-packages (from ipython>=4.0.0->ipywidgets) (2.19.2)\n",
            "Requirement already satisfied: backcall in /usr/local/lib/python3.11/dist-packages (from ipython>=4.0.0->ipywidgets) (0.2.0)\n",
            "Requirement already satisfied: pexpect>4.3 in /usr/local/lib/python3.11/dist-packages (from ipython>=4.0.0->ipywidgets) (4.9.0)\n",
            "Requirement already satisfied: notebook>=4.4.1 in /usr/local/lib/python3.11/dist-packages (from widgetsnbextension~=3.6.0->ipywidgets) (6.5.7)\n",
            "Requirement already satisfied: parso<0.9.0,>=0.8.4 in /usr/local/lib/python3.11/dist-packages (from jedi>=0.16->ipython>=4.0.0->ipywidgets) (0.8.4)\n",
            "Requirement already satisfied: jupyter-core>=4.6.0 in /usr/local/lib/python3.11/dist-packages (from jupyter-client>=6.1.12->ipykernel>=4.5.1->ipywidgets) (5.8.1)\n",
            "Requirement already satisfied: python-dateutil>=2.1 in /usr/local/lib/python3.11/dist-packages (from jupyter-client>=6.1.12->ipykernel>=4.5.1->ipywidgets) (2.9.0.post0)\n",
            "Requirement already satisfied: jinja2 in /usr/local/lib/python3.11/dist-packages (from notebook>=4.4.1->widgetsnbextension~=3.6.0->ipywidgets) (3.1.6)\n",
            "Requirement already satisfied: argon2-cffi in /usr/local/lib/python3.11/dist-packages (from notebook>=4.4.1->widgetsnbextension~=3.6.0->ipywidgets) (25.1.0)\n",
            "Requirement already satisfied: nbformat in /usr/local/lib/python3.11/dist-packages (from notebook>=4.4.1->widgetsnbextension~=3.6.0->ipywidgets) (5.10.4)\n",
            "Requirement already satisfied: nbconvert>=5 in /usr/local/lib/python3.11/dist-packages (from notebook>=4.4.1->widgetsnbextension~=3.6.0->ipywidgets) (7.16.6)\n",
            "Requirement already satisfied: Send2Trash>=1.8.0 in /usr/local/lib/python3.11/dist-packages (from notebook>=4.4.1->widgetsnbextension~=3.6.0->ipywidgets) (1.8.3)\n",
            "Requirement already satisfied: terminado>=0.8.3 in /usr/local/lib/python3.11/dist-packages (from notebook>=4.4.1->widgetsnbextension~=3.6.0->ipywidgets) (0.18.1)\n",
            "Requirement already satisfied: prometheus-client in /usr/local/lib/python3.11/dist-packages (from notebook>=4.4.1->widgetsnbextension~=3.6.0->ipywidgets) (0.22.1)\n",
            "Requirement already satisfied: nbclassic>=0.4.7 in /usr/local/lib/python3.11/dist-packages (from notebook>=4.4.1->widgetsnbextension~=3.6.0->ipywidgets) (1.3.1)\n",
            "Requirement already satisfied: ptyprocess>=0.5 in /usr/local/lib/python3.11/dist-packages (from pexpect>4.3->ipython>=4.0.0->ipywidgets) (0.7.0)\n",
            "Requirement already satisfied: wcwidth in /usr/local/lib/python3.11/dist-packages (from prompt-toolkit!=3.0.0,!=3.0.1,<3.1.0,>=2.0.0->ipython>=4.0.0->ipywidgets) (0.2.13)\n",
            "Requirement already satisfied: platformdirs>=2.5 in /usr/local/lib/python3.11/dist-packages (from jupyter-core>=4.6.0->jupyter-client>=6.1.12->ipykernel>=4.5.1->ipywidgets) (4.3.8)\n",
            "Requirement already satisfied: notebook-shim>=0.2.3 in /usr/local/lib/python3.11/dist-packages (from nbclassic>=0.4.7->notebook>=4.4.1->widgetsnbextension~=3.6.0->ipywidgets) (0.2.4)\n",
            "Requirement already satisfied: beautifulsoup4 in /usr/local/lib/python3.11/dist-packages (from nbconvert>=5->notebook>=4.4.1->widgetsnbextension~=3.6.0->ipywidgets) (4.13.4)\n",
            "Requirement already satisfied: bleach!=5.0.0 in /usr/local/lib/python3.11/dist-packages (from bleach[css]!=5.0.0->nbconvert>=5->notebook>=4.4.1->widgetsnbextension~=3.6.0->ipywidgets) (6.2.0)\n",
            "Requirement already satisfied: defusedxml in /usr/local/lib/python3.11/dist-packages (from nbconvert>=5->notebook>=4.4.1->widgetsnbextension~=3.6.0->ipywidgets) (0.7.1)\n",
            "Requirement already satisfied: jupyterlab-pygments in /usr/local/lib/python3.11/dist-packages (from nbconvert>=5->notebook>=4.4.1->widgetsnbextension~=3.6.0->ipywidgets) (0.3.0)\n",
            "Requirement already satisfied: markupsafe>=2.0 in /usr/local/lib/python3.11/dist-packages (from nbconvert>=5->notebook>=4.4.1->widgetsnbextension~=3.6.0->ipywidgets) (3.0.2)\n",
            "Requirement already satisfied: mistune<4,>=2.0.3 in /usr/local/lib/python3.11/dist-packages (from nbconvert>=5->notebook>=4.4.1->widgetsnbextension~=3.6.0->ipywidgets) (3.1.3)\n",
            "Requirement already satisfied: nbclient>=0.5.0 in /usr/local/lib/python3.11/dist-packages (from nbconvert>=5->notebook>=4.4.1->widgetsnbextension~=3.6.0->ipywidgets) (0.10.2)\n",
            "Requirement already satisfied: pandocfilters>=1.4.1 in /usr/local/lib/python3.11/dist-packages (from nbconvert>=5->notebook>=4.4.1->widgetsnbextension~=3.6.0->ipywidgets) (1.5.1)\n",
            "Requirement already satisfied: fastjsonschema>=2.15 in /usr/local/lib/python3.11/dist-packages (from nbformat->notebook>=4.4.1->widgetsnbextension~=3.6.0->ipywidgets) (2.21.1)\n",
            "Requirement already satisfied: jsonschema>=2.6 in /usr/local/lib/python3.11/dist-packages (from nbformat->notebook>=4.4.1->widgetsnbextension~=3.6.0->ipywidgets) (4.24.0)\n",
            "Requirement already satisfied: six>=1.5 in /usr/local/lib/python3.11/dist-packages (from python-dateutil>=2.1->jupyter-client>=6.1.12->ipykernel>=4.5.1->ipywidgets) (1.17.0)\n",
            "Requirement already satisfied: argon2-cffi-bindings in /usr/local/lib/python3.11/dist-packages (from argon2-cffi->notebook>=4.4.1->widgetsnbextension~=3.6.0->ipywidgets) (21.2.0)\n",
            "Requirement already satisfied: webencodings in /usr/local/lib/python3.11/dist-packages (from bleach!=5.0.0->bleach[css]!=5.0.0->nbconvert>=5->notebook>=4.4.1->widgetsnbextension~=3.6.0->ipywidgets) (0.5.1)\n",
            "Requirement already satisfied: tinycss2<1.5,>=1.1.0 in /usr/local/lib/python3.11/dist-packages (from bleach[css]!=5.0.0->nbconvert>=5->notebook>=4.4.1->widgetsnbextension~=3.6.0->ipywidgets) (1.4.0)\n",
            "Requirement already satisfied: attrs>=22.2.0 in /usr/local/lib/python3.11/dist-packages (from jsonschema>=2.6->nbformat->notebook>=4.4.1->widgetsnbextension~=3.6.0->ipywidgets) (25.3.0)\n",
            "Requirement already satisfied: jsonschema-specifications>=2023.03.6 in /usr/local/lib/python3.11/dist-packages (from jsonschema>=2.6->nbformat->notebook>=4.4.1->widgetsnbextension~=3.6.0->ipywidgets) (2025.4.1)\n",
            "Requirement already satisfied: referencing>=0.28.4 in /usr/local/lib/python3.11/dist-packages (from jsonschema>=2.6->nbformat->notebook>=4.4.1->widgetsnbextension~=3.6.0->ipywidgets) (0.36.2)\n",
            "Requirement already satisfied: rpds-py>=0.7.1 in /usr/local/lib/python3.11/dist-packages (from jsonschema>=2.6->nbformat->notebook>=4.4.1->widgetsnbextension~=3.6.0->ipywidgets) (0.25.1)\n",
            "Requirement already satisfied: jupyter-server<3,>=1.8 in /usr/local/lib/python3.11/dist-packages (from notebook-shim>=0.2.3->nbclassic>=0.4.7->notebook>=4.4.1->widgetsnbextension~=3.6.0->ipywidgets) (1.16.0)\n",
            "Requirement already satisfied: cffi>=1.0.1 in /usr/local/lib/python3.11/dist-packages (from argon2-cffi-bindings->argon2-cffi->notebook>=4.4.1->widgetsnbextension~=3.6.0->ipywidgets) (1.17.1)\n",
            "Requirement already satisfied: soupsieve>1.2 in /usr/local/lib/python3.11/dist-packages (from beautifulsoup4->nbconvert>=5->notebook>=4.4.1->widgetsnbextension~=3.6.0->ipywidgets) (2.7)\n",
            "Requirement already satisfied: typing-extensions>=4.0.0 in /usr/local/lib/python3.11/dist-packages (from beautifulsoup4->nbconvert>=5->notebook>=4.4.1->widgetsnbextension~=3.6.0->ipywidgets) (4.14.0)\n",
            "Requirement already satisfied: pycparser in /usr/local/lib/python3.11/dist-packages (from cffi>=1.0.1->argon2-cffi-bindings->argon2-cffi->notebook>=4.4.1->widgetsnbextension~=3.6.0->ipywidgets) (2.22)\n",
            "Requirement already satisfied: anyio>=3.1.0 in /usr/local/lib/python3.11/dist-packages (from jupyter-server<3,>=1.8->notebook-shim>=0.2.3->nbclassic>=0.4.7->notebook>=4.4.1->widgetsnbextension~=3.6.0->ipywidgets) (4.9.0)\n",
            "Requirement already satisfied: websocket-client in /usr/local/lib/python3.11/dist-packages (from jupyter-server<3,>=1.8->notebook-shim>=0.2.3->nbclassic>=0.4.7->notebook>=4.4.1->widgetsnbextension~=3.6.0->ipywidgets) (1.8.0)\n",
            "Requirement already satisfied: idna>=2.8 in /usr/local/lib/python3.11/dist-packages (from anyio>=3.1.0->jupyter-server<3,>=1.8->notebook-shim>=0.2.3->nbclassic>=0.4.7->notebook>=4.4.1->widgetsnbextension~=3.6.0->ipywidgets) (3.10)\n",
            "Requirement already satisfied: sniffio>=1.1 in /usr/local/lib/python3.11/dist-packages (from anyio>=3.1.0->jupyter-server<3,>=1.8->notebook-shim>=0.2.3->nbclassic>=0.4.7->notebook>=4.4.1->widgetsnbextension~=3.6.0->ipywidgets) (1.3.1)\n",
            "Downloading jedi-0.19.2-py2.py3-none-any.whl (1.6 MB)\n",
            "\u001b[2K   \u001b[90m━━━━━━━━━━━━━━━━━━━━━━━━━━━━━━━━━━━━━━━━\u001b[0m \u001b[32m1.6/1.6 MB\u001b[0m \u001b[31m15.1 MB/s\u001b[0m eta \u001b[36m0:00:00\u001b[0m\n",
            "\u001b[?25hInstalling collected packages: jedi\n",
            "Successfully installed jedi-0.19.2\n"
          ]
        },
        {
          "output_type": "stream",
          "name": "stderr",
          "text": [
            "[nltk_data] Downloading package punkt to /root/nltk_data...\n",
            "[nltk_data]   Unzipping tokenizers/punkt.zip.\n"
          ]
        },
        {
          "output_type": "stream",
          "name": "stdout",
          "text": [
            "Середовище готове.\n"
          ]
        }
      ],
      "source": [
        "# Встановлення необхідних бібліотек\n",
        "!pip install nltk ipywidgets\n",
        "\n",
        "# Імпорт бібліотек\n",
        "import re\n",
        "import random\n",
        "from collections import Counter\n",
        "import numpy as np\n",
        "import nltk\n",
        "import ipywidgets as widgets\n",
        "from IPython.display import display, clear_output\n",
        "\n",
        "# Завантаження ресурсів NLTK\n",
        "nltk.download('punkt')\n",
        "\n",
        "print(\"Середовище готове.\")"
      ]
    },
    {
      "cell_type": "code",
      "source": [
        "# Завантаження файлу корпусу з URL\n",
        "!wget https://lang.org.ua/static/downloads/corpora/wiki_dump.tokenized.txt.bz2\n",
        "\n",
        "# Розархівація файлу\n",
        "# -d: decompress (розархівувати)\n",
        "# -k: keep (зберегти оригінальний архів)\n",
        "!bzip2 -dk wiki_dump.tokenized.txt.bz2\n",
        "\n",
        "print(\"Корпус завантажено та розархівовано.\")"
      ],
      "metadata": {
        "colab": {
          "base_uri": "https://localhost:8080/"
        },
        "id": "RLhuex1V_l5a",
        "outputId": "ea06abe3-5263-40d8-ad04-c8e4cbf89ed8"
      },
      "execution_count": 2,
      "outputs": [
        {
          "output_type": "stream",
          "name": "stdout",
          "text": [
            "--2025-06-27 15:26:29--  https://lang.org.ua/static/downloads/corpora/wiki_dump.tokenized.txt.bz2\n",
            "Resolving lang.org.ua (lang.org.ua)... 65.21.91.242\n",
            "Connecting to lang.org.ua (lang.org.ua)|65.21.91.242|:443... connected.\n",
            "HTTP request sent, awaiting response... 200 OK\n",
            "Length: 422072383 (403M) [application/octet-stream]\n",
            "Saving to: ‘wiki_dump.tokenized.txt.bz2’\n",
            "\n",
            "wiki_dump.tokenized 100%[===================>] 402.52M  28.4MB/s    in 15s     \n",
            "\n",
            "2025-06-27 15:26:44 (26.4 MB/s) - ‘wiki_dump.tokenized.txt.bz2’ saved [422072383/422072383]\n",
            "\n",
            "Корпус завантажено та розархівовано.\n"
          ]
        }
      ]
    },
    {
      "cell_type": "code",
      "source": [
        "import re\n",
        "import random\n",
        "from collections import Counter\n",
        "import numpy as np\n",
        "import nltk\n",
        "\n",
        "# --- Допоміжні функції ---\n",
        "\n",
        "def count_words(tokenized_sentences):\n",
        "    \"\"\"\n",
        "    Підраховує частоту кожного слова в корпусі.\n",
        "    \"\"\"\n",
        "    word_counts = {}\n",
        "    for sentence in tokenized_sentences:\n",
        "        for token in sentence:\n",
        "            if token not in word_counts:\n",
        "                word_counts[token] = 0\n",
        "            word_counts[token] += 1\n",
        "    return word_counts\n",
        "\n",
        "def get_words_with_nplus_frequency(tokenized_sentences, count_threshold):\n",
        "    \"\"\"\n",
        "    Отримує слова, які з'являються не менше count_threshold разів.\n",
        "    \"\"\"\n",
        "    closed_vocab = []\n",
        "    word_counts = count_words(tokenized_sentences)\n",
        "    for word, cnt in word_counts.items():\n",
        "        if cnt >= count_threshold:\n",
        "            closed_vocab.append(word)\n",
        "    return closed_vocab\n",
        "\n",
        "def replace_oov_words_by_unk(tokenized_sentences, vocabulary, unknown_token=\"<unk>\"):\n",
        "    \"\"\"\n",
        "    Замінює слова, які не входять до словника, на токен unknown_token.\n",
        "    \"\"\"\n",
        "    vocabulary = set(vocabulary)\n",
        "    replaced_tokenized_sentences = []\n",
        "    for sentence in tokenized_sentences:\n",
        "        replaced_sentence = []\n",
        "        for token in sentence:\n",
        "            if token in vocabulary:\n",
        "                replaced_sentence.append(token)\n",
        "            else:\n",
        "                replaced_sentence.append(unknown_token)\n",
        "        replaced_tokenized_sentences.append(replaced_sentence)\n",
        "    return replaced_tokenized_sentences\n",
        "\n",
        "def preprocess_data(train_data, test_data, count_threshold):\n",
        "    \"\"\"\n",
        "    Виконує повну попередню обробку даних.\n",
        "    \"\"\"\n",
        "    vocabulary = get_words_with_nplus_frequency(train_data, count_threshold)\n",
        "    train_data_replaced = replace_oov_words_by_unk(train_data, vocabulary)\n",
        "    test_data_replaced = replace_oov_words_by_unk(test_data, vocabulary)\n",
        "    return train_data_replaced, test_data_replaced, vocabulary\n",
        "\n",
        "# --- Оптимізована функція для читання великого файлу ---\n",
        "\n",
        "def load_and_process_partially(filepath, num_lines_to_process):\n",
        "    \"\"\"\n",
        "    Читає та обробляє лише вказану кількість рядків з великого файлу.\n",
        "    \"\"\"\n",
        "    tokenized_sentences = []\n",
        "    print(f\"Починаємо читати та обробляти перші {num_lines_to_process} рядків з файлу...\")\n",
        "\n",
        "    try:\n",
        "        with open(filepath, 'r', encoding='utf-8') as f:\n",
        "            for i, line in enumerate(f):\n",
        "                if i >= num_lines_to_process:\n",
        "                    break\n",
        "\n",
        "                sentence = line.lower().strip()\n",
        "                tokens = sentence.split()\n",
        "                if tokens:\n",
        "                    tokenized_sentences.append(tokens)\n",
        "\n",
        "                if (i + 1) % 100000 == 0:\n",
        "                    print(f\"  Оброблено {i + 1} рядків...\")\n",
        "\n",
        "    except FileNotFoundError:\n",
        "        print(f\"Помилка: файл '{filepath}' не знайдено.\")\n",
        "        return []\n",
        "\n",
        "    print(f\"Завершено. Оброблено {len(tokenized_sentences)} речень.\")\n",
        "    return tokenized_sentences\n",
        "\n",
        "# --- Основна частина запуску обробки ---\n",
        "\n",
        "LINES_TO_PROCESS = 500000\n",
        "corpus_path = 'wiki_dump.tokenized.txt'\n",
        "\n",
        "tokenized_data = load_and_process_partially(corpus_path, LINES_TO_PROCESS)\n",
        "\n",
        "if tokenized_data:\n",
        "    random.seed(8)\n",
        "    random.shuffle(tokenized_data)\n",
        "    train_size = int(len(tokenized_data) * 0.8)\n",
        "    train_data = tokenized_data[:train_size]\n",
        "    test_data = tokenized_data[train_size:]\n",
        "\n",
        "    print(f\"\\nРозмір тренувальної вибірки: {len(train_data)} речень\")\n",
        "    print(f\"Розмір тестової вибірки: {len(test_data)} речень\")\n",
        "\n",
        "    print(\"\\nПопередня обробка та створення словника...\")\n",
        "    count_threshold = 2\n",
        "    train_data_processed, test_data_processed, vocabulary = preprocess_data(train_data, test_data, count_threshold)\n",
        "\n",
        "    print(f\"Розмір словника: {len(vocabulary)} слів\")\n",
        "    print(\"\\nКрок 1 успішно завершено!\")\n",
        "else:\n",
        "    print(\"Не вдалося обробити дані.\")"
      ],
      "metadata": {
        "colab": {
          "base_uri": "https://localhost:8080/"
        },
        "id": "mgdvc-tq_nff",
        "outputId": "46d9c3f6-ec35-437b-b155-6f003b939845"
      },
      "execution_count": 4,
      "outputs": [
        {
          "output_type": "stream",
          "name": "stdout",
          "text": [
            "Починаємо читати та обробляти перші 500000 рядків з файлу...\n",
            "  Оброблено 100000 рядків...\n",
            "  Оброблено 200000 рядків...\n",
            "  Оброблено 300000 рядків...\n",
            "  Оброблено 400000 рядків...\n",
            "  Оброблено 500000 рядків...\n",
            "Завершено. Оброблено 500000 речень.\n",
            "\n",
            "Розмір тренувальної вибірки: 400000 речень\n",
            "Розмір тестової вибірки: 100000 речень\n",
            "\n",
            "Попередня обробка та створення словника...\n",
            "Розмір словника: 189383 слів\n",
            "\n",
            "Крок 1 успішно завершено!\n"
          ]
        }
      ]
    },
    {
      "cell_type": "code",
      "source": [
        "def count_n_grams(data, n, start_token='<s>', end_token='</s>'):\n",
        "    \"\"\"Підраховує кількість n-грам у даних.\"\"\"\n",
        "    n_grams = {}\n",
        "    for sentence in data:\n",
        "        sentence = [start_token] * (n - 1) + sentence + [end_token]\n",
        "        sentence = tuple(sentence)\n",
        "        for i in range(len(sentence) - n + 1):\n",
        "            n_gram = sentence[i:i+n]\n",
        "            if n_gram in n_grams:\n",
        "                n_grams[n_gram] += 1\n",
        "            else:\n",
        "                n_grams[n_gram] = 1\n",
        "    return n_grams\n",
        "\n",
        "# Обчислюємо N-грами різних розмірів\n",
        "print(\"Обчислення N-грам...\")\n",
        "n_gram_counts_list = []\n",
        "for n in range(1, 6): # Від уніграм (n=1) до 5-грам (n=5)\n",
        "    print(f\"Побудова {n}-грам...\")\n",
        "    n_grams = count_n_grams(train_data_processed, n)\n",
        "    n_gram_counts_list.append(n_grams)\n",
        "\n",
        "print(\"N-грамні моделі успішно побудовано.\")"
      ],
      "metadata": {
        "colab": {
          "base_uri": "https://localhost:8080/"
        },
        "id": "lzjfmzCt_qXh",
        "outputId": "773c1e87-a7d5-403e-af67-6d63d7196aac"
      },
      "execution_count": 6,
      "outputs": [
        {
          "output_type": "stream",
          "name": "stdout",
          "text": [
            "Обчислення N-грам...\n",
            "Побудова 1-грам...\n",
            "Побудова 2-грам...\n",
            "Побудова 3-грам...\n",
            "Побудова 4-грам...\n",
            "Побудова 5-грам...\n",
            "N-грамні моделі успішно побудовано.\n"
          ]
        }
      ]
    },
    {
      "cell_type": "code",
      "source": [
        "def estimate_probability(word, previous_n_gram, n_gram_counts, n_plus1_gram_counts, vocabulary_size, k=1.0):\n",
        "    \"\"\"Оцінює ймовірність слова `word` з K-згладжуванням.\"\"\"\n",
        "    previous_n_gram = tuple(previous_n_gram)\n",
        "    previous_n_gram_count = n_gram_counts.get(previous_n_gram, 0)\n",
        "    denominator = previous_n_gram_count + k * vocabulary_size\n",
        "    n_plus1_gram = previous_n_gram + (word,)\n",
        "    n_plus1_gram_count = n_plus1_gram_counts.get(n_plus1_gram, 0)\n",
        "    numerator = n_plus1_gram_count + k\n",
        "    probability = numerator / denominator\n",
        "    return probability\n",
        "\n",
        "def estimate_probabilities(previous_n_gram, n_gram_counts, n_plus1_gram_counts, vocabulary, k=1.0):\n",
        "    \"\"\"Оцінює ймовірності для всіх слів у словнику.\"\"\"\n",
        "    previous_n_gram = tuple(previous_n_gram)\n",
        "    vocabulary = vocabulary + [\"<unk>\", \"</s>\"]\n",
        "    vocabulary_size = len(vocabulary)\n",
        "    probabilities = {}\n",
        "    for word in vocabulary:\n",
        "        probability = estimate_probability(word, previous_n_gram, n_gram_counts, n_plus1_gram_counts, vocabulary_size, k)\n",
        "        probabilities[word] = probability\n",
        "    return probabilities\n",
        "\n",
        "def calculate_perplexity(sentence, n_gram_counts, n_plus1_gram_counts, vocabulary_size, k=1.0):\n",
        "    \"\"\"Обчислює перплексію для речення.\"\"\"\n",
        "    n = len(list(n_gram_counts.keys())[0])\n",
        "    sentence = [\"<s>\"] * n + sentence + [\"</s>\"]\n",
        "    sentence = tuple(sentence)\n",
        "    N = len(sentence)\n",
        "    product_pi = 1.0\n",
        "    for t in range(n, N):\n",
        "        n_gram = sentence[t-n:t]\n",
        "        word = sentence[t]\n",
        "        probability = estimate_probability(word, n_gram, n_gram_counts, n_plus1_gram_counts, len(vocabulary), k)\n",
        "        product_pi *= (1 / probability)\n",
        "    perplexity = product_pi**(1/float(N))\n",
        "    return perplexity\n",
        "\n",
        "# Оцінимо перплексію нашої біграмної моделі (n=2) на одному реченні з тестового набору\n",
        "print(\"\\nОцінка перплексії...\")\n",
        "example_sentence = test_data_processed[0]\n",
        "perplexity = calculate_perplexity(example_sentence, n_gram_counts_list[0], n_gram_counts_list[1], len(vocabulary))\n",
        "print(f\"Речення: {' '.join(example_sentence)}\")\n",
        "print(f\"Перплексія для біграмної моделі: {perplexity:.4f}\")"
      ],
      "metadata": {
        "colab": {
          "base_uri": "https://localhost:8080/"
        },
        "id": "rr82yZs7_snj",
        "outputId": "b588817e-1e23-4666-af22-e3f0bba20d3a"
      },
      "execution_count": 8,
      "outputs": [
        {
          "output_type": "stream",
          "name": "stdout",
          "text": [
            "\n",
            "Оцінка перплексії...\n",
            "Речення: isbn <unk>\n",
            "Перплексія для біграмної моделі: 29.7745\n"
          ]
        }
      ]
    },
    {
      "cell_type": "code",
      "source": [
        "def get_suggestions(previous_tokens, n_gram_counts_list, vocabulary, k=1.0, start_with=None):\n",
        "    \"\"\"Отримує список найімовірніших наступних слів.\"\"\"\n",
        "    model_suggestions = {}\n",
        "    n_max = len(n_gram_counts_list) # Максимальний розмір N-грами\n",
        "\n",
        "    for n in range(2, n_max + 1): # Починаємо з біграм (n=2)\n",
        "        n_gram_counts = n_gram_counts_list[n-2]\n",
        "        n_plus1_gram_counts = n_gram_counts_list[n-1]\n",
        "\n",
        "        # Визначаємо контекст\n",
        "        if len(previous_tokens) >= n - 1:\n",
        "            previous_n_gram = previous_tokens[-(n-1):]\n",
        "        else:\n",
        "            # Доповнюємо токенами початку, якщо контекст занадто короткий\n",
        "            num_padding = (n - 1) - len(previous_tokens)\n",
        "            previous_n_gram = [\"<s>\"] * num_padding + previous_tokens\n",
        "\n",
        "        probabilities = estimate_probabilities(previous_n_gram, n_gram_counts, n_plus1_gram_counts, vocabulary, k)\n",
        "\n",
        "        # Фільтруємо за початком слова\n",
        "        for word, prob in probabilities.items():\n",
        "            if start_with and not word.startswith(start_with):\n",
        "                continue\n",
        "            # Зберігаємо найвищу ймовірність для кожного слова\n",
        "            if word not in model_suggestions or prob > model_suggestions[word]:\n",
        "                model_suggestions[word] = prob\n",
        "\n",
        "    # Сортуємо слова за їхньою ймовірністю\n",
        "    sorted_suggestions = sorted(model_suggestions.items(), key=lambda x: x[1], reverse=True)\n",
        "\n",
        "    return sorted_suggestions\n",
        "\n",
        "# Приклад використання\n",
        "previous_text = \"я думаю що\"\n",
        "tokens = previous_text.split()\n",
        "suggestions = get_suggestions(tokens, n_gram_counts_list, vocabulary, k=1.0)\n",
        "\n",
        "print(f\"\\nПропозиції для тексту '{previous_text}':\")\n",
        "for word, prob in suggestions[:5]:\n",
        "    print(f\"- {word} (ймовірність: {prob:.6f})\")"
      ],
      "metadata": {
        "colab": {
          "base_uri": "https://localhost:8080/"
        },
        "id": "hQLfaKPy_u5d",
        "outputId": "b21e0dbc-391e-4d5d-a542-aff1b612512d"
      },
      "execution_count": 9,
      "outputs": [
        {
          "output_type": "stream",
          "name": "stdout",
          "text": [
            "\n",
            "Пропозиції для тексту 'я думаю що':\n",
            "- <unk> (ймовірність: 0.003208)\n",
            "- в (ймовірність: 0.002967)\n",
            "- не (ймовірність: 0.002645)\n",
            "- він (ймовірність: 0.001895)\n",
            "- є (ймовірність: 0.001600)\n"
          ]
        }
      ]
    },
    {
      "cell_type": "code",
      "source": [
        "def run_interactive_console(n_gram_counts_list, vocabulary):\n",
        "    \"\"\"\n",
        "    Запускає простий текстовий інтерфейс для тестування автозавершення.\n",
        "    \"\"\"\n",
        "    print(\"\\n--- Інтерактивний режим автозавершення ---\")\n",
        "    print(\"Введіть текст. Для виходу напишіть 'вихід' або 'exit'.\")\n",
        "\n",
        "    while True:\n",
        "        # Отримуємо ввід від користувача\n",
        "        text = input(\"\\nВаш текст: \")\n",
        "\n",
        "        # Умова для виходу з циклу\n",
        "        if text.lower() in ['вихід', 'exit']:\n",
        "            print(\"Завершення роботи.\")\n",
        "            break\n",
        "\n",
        "        if not text:\n",
        "            continue\n",
        "\n",
        "        tokens = text.lower().strip().split()\n",
        "\n",
        "        # Отримуємо пропозиції\n",
        "        # Передаємо відфільтрований список N-грам, щоб уникнути помилок\n",
        "        suggestions = get_suggestions(tokens, n_gram_counts_list, vocabulary, k=1.0)\n",
        "\n",
        "        # Фільтруємо спец-токени ПЕРЕД виводом\n",
        "        final_suggestions = [s for s in suggestions if s[0] not in ['<unk>', '<s>', '</s>']]\n",
        "\n",
        "        if not final_suggestions:\n",
        "            print(\"Немає пропозицій для даного контексту.\")\n",
        "        else:\n",
        "            print(\"Найкращі пропозиції:\")\n",
        "            for word, prob in final_suggestions[:5]:\n",
        "                print(f\"- {word} (ймовірність: {prob:.6f})\")\n",
        "\n",
        "# --- Приклад запуску ---\n",
        "# Після того, як ви навчили моделі (після Кроку 2), запустіть цю функцію.\n",
        "\n",
        "# run_interactive_console(n_gram_counts_list, vocabulary)"
      ],
      "metadata": {
        "id": "fPEekogm_xP7"
      },
      "execution_count": 11,
      "outputs": []
    },
    {
      "cell_type": "code",
      "source": [
        " run_interactive_console(n_gram_counts_list, vocabulary)"
      ],
      "metadata": {
        "colab": {
          "base_uri": "https://localhost:8080/",
          "height": 1000
        },
        "id": "4H3SL6haD4Fe",
        "outputId": "1299c19d-43d6-4fc0-bc47-fbc8d1fc0480"
      },
      "execution_count": 12,
      "outputs": [
        {
          "output_type": "stream",
          "name": "stdout",
          "text": [
            "\n",
            "--- Інтерактивний режим автозавершення ---\n",
            "Введіть текст. Для виходу напишіть 'вихід' або 'exit'.\n",
            "\n",
            "Ваш текст: Сьогодні хороший день щоб почати\n",
            "Найкращі пропозиції:\n",
            "- його (ймовірність: 0.000026)\n",
            "- будівництво (ймовірність: 0.000021)\n",
            "- пошук (ймовірність: 0.000016)\n",
            "- переговори (ймовірність: 0.000016)\n",
            "- свій (ймовірність: 0.000011)\n",
            "\n",
            "Ваш текст: Хороший день щоб почати переговори\n",
            "Найкращі пропозиції:\n",
            "- з (ймовірність: 0.000380)\n",
            "- про (ймовірність: 0.000111)\n",
            "- між (ймовірність: 0.000047)\n",
            "- в (ймовірність: 0.000042)\n",
            "- щодо (ймовірність: 0.000037)\n",
            "\n",
            "Ваш текст: день щоб почати переговори з\n",
            "Найкращі пропозиції:\n",
            "- них (ймовірність: 0.005902)\n",
            "- яких (ймовірність: 0.003495)\n",
            "- метою (ймовірність: 0.002770)\n",
            "- іншими (ймовірність: 0.001529)\n",
            "- боку (ймовірність: 0.001434)\n",
            "\n",
            "Ваш текст: щоб почати переговори з іншими\n",
            "Найкращі пропозиції:\n",
            "- даними (ймовірність: 0.000441)\n",
            "- словами (ймовірність: 0.000252)\n",
            "- мовами (ймовірність: 0.000231)\n",
            "- державами (ймовірність: 0.000136)\n",
            "- країнами (ймовірність: 0.000126)\n",
            "\n",
            "Ваш текст: почати переговори з іншими державами\n",
            "Найкращі пропозиції:\n",
            "- індостану (ймовірність: 0.001115)\n",
            "- індії (ймовірність: 0.000963)\n",
            "- північ (ймовірність: 0.000558)\n",
            "- в (ймовірність: 0.000132)\n",
            "- на (ймовірність: 0.000058)\n"
          ]
        },
        {
          "output_type": "error",
          "ename": "KeyboardInterrupt",
          "evalue": "Interrupted by user",
          "traceback": [
            "\u001b[0;31m---------------------------------------------------------------------------\u001b[0m",
            "\u001b[0;31mKeyboardInterrupt\u001b[0m                         Traceback (most recent call last)",
            "\u001b[0;32m/tmp/ipython-input-12-2737251403.py\u001b[0m in \u001b[0;36m<cell line: 0>\u001b[0;34m()\u001b[0m\n\u001b[0;32m----> 1\u001b[0;31m \u001b[0mrun_interactive_console\u001b[0m\u001b[0;34m(\u001b[0m\u001b[0mn_gram_counts_list\u001b[0m\u001b[0;34m,\u001b[0m \u001b[0mvocabulary\u001b[0m\u001b[0;34m)\u001b[0m\u001b[0;34m\u001b[0m\u001b[0;34m\u001b[0m\u001b[0m\n\u001b[0m",
            "\u001b[0;32m/tmp/ipython-input-11-2671908248.py\u001b[0m in \u001b[0;36mrun_interactive_console\u001b[0;34m(n_gram_counts_list, vocabulary)\u001b[0m\n\u001b[1;32m      8\u001b[0m     \u001b[0;32mwhile\u001b[0m \u001b[0;32mTrue\u001b[0m\u001b[0;34m:\u001b[0m\u001b[0;34m\u001b[0m\u001b[0;34m\u001b[0m\u001b[0m\n\u001b[1;32m      9\u001b[0m         \u001b[0;31m# Отримуємо ввід від користувача\u001b[0m\u001b[0;34m\u001b[0m\u001b[0;34m\u001b[0m\u001b[0m\n\u001b[0;32m---> 10\u001b[0;31m         \u001b[0mtext\u001b[0m \u001b[0;34m=\u001b[0m \u001b[0minput\u001b[0m\u001b[0;34m(\u001b[0m\u001b[0;34m\"\\nВаш текст: \"\u001b[0m\u001b[0;34m)\u001b[0m\u001b[0;34m\u001b[0m\u001b[0;34m\u001b[0m\u001b[0m\n\u001b[0m\u001b[1;32m     11\u001b[0m \u001b[0;34m\u001b[0m\u001b[0m\n\u001b[1;32m     12\u001b[0m         \u001b[0;31m# Умова для виходу з циклу\u001b[0m\u001b[0;34m\u001b[0m\u001b[0;34m\u001b[0m\u001b[0m\n",
            "\u001b[0;32m/usr/local/lib/python3.11/dist-packages/ipykernel/kernelbase.py\u001b[0m in \u001b[0;36mraw_input\u001b[0;34m(self, prompt)\u001b[0m\n\u001b[1;32m   1175\u001b[0m                 \u001b[0;34m\"raw_input was called, but this frontend does not support input requests.\"\u001b[0m\u001b[0;34m\u001b[0m\u001b[0;34m\u001b[0m\u001b[0m\n\u001b[1;32m   1176\u001b[0m             )\n\u001b[0;32m-> 1177\u001b[0;31m         return self._input_request(\n\u001b[0m\u001b[1;32m   1178\u001b[0m             \u001b[0mstr\u001b[0m\u001b[0;34m(\u001b[0m\u001b[0mprompt\u001b[0m\u001b[0;34m)\u001b[0m\u001b[0;34m,\u001b[0m\u001b[0;34m\u001b[0m\u001b[0;34m\u001b[0m\u001b[0m\n\u001b[1;32m   1179\u001b[0m             \u001b[0mself\u001b[0m\u001b[0;34m.\u001b[0m\u001b[0m_parent_ident\u001b[0m\u001b[0;34m[\u001b[0m\u001b[0;34m\"shell\"\u001b[0m\u001b[0;34m]\u001b[0m\u001b[0;34m,\u001b[0m\u001b[0;34m\u001b[0m\u001b[0;34m\u001b[0m\u001b[0m\n",
            "\u001b[0;32m/usr/local/lib/python3.11/dist-packages/ipykernel/kernelbase.py\u001b[0m in \u001b[0;36m_input_request\u001b[0;34m(self, prompt, ident, parent, password)\u001b[0m\n\u001b[1;32m   1217\u001b[0m             \u001b[0;32mexcept\u001b[0m \u001b[0mKeyboardInterrupt\u001b[0m\u001b[0;34m:\u001b[0m\u001b[0;34m\u001b[0m\u001b[0;34m\u001b[0m\u001b[0m\n\u001b[1;32m   1218\u001b[0m                 \u001b[0;31m# re-raise KeyboardInterrupt, to truncate traceback\u001b[0m\u001b[0;34m\u001b[0m\u001b[0;34m\u001b[0m\u001b[0m\n\u001b[0;32m-> 1219\u001b[0;31m                 \u001b[0;32mraise\u001b[0m \u001b[0mKeyboardInterrupt\u001b[0m\u001b[0;34m(\u001b[0m\u001b[0;34m\"Interrupted by user\"\u001b[0m\u001b[0;34m)\u001b[0m \u001b[0;32mfrom\u001b[0m \u001b[0;32mNone\u001b[0m\u001b[0;34m\u001b[0m\u001b[0;34m\u001b[0m\u001b[0m\n\u001b[0m\u001b[1;32m   1220\u001b[0m             \u001b[0;32mexcept\u001b[0m \u001b[0mException\u001b[0m\u001b[0;34m:\u001b[0m\u001b[0;34m\u001b[0m\u001b[0;34m\u001b[0m\u001b[0m\n\u001b[1;32m   1221\u001b[0m                 \u001b[0mself\u001b[0m\u001b[0;34m.\u001b[0m\u001b[0mlog\u001b[0m\u001b[0;34m.\u001b[0m\u001b[0mwarning\u001b[0m\u001b[0;34m(\u001b[0m\u001b[0;34m\"Invalid Message:\"\u001b[0m\u001b[0;34m,\u001b[0m \u001b[0mexc_info\u001b[0m\u001b[0;34m=\u001b[0m\u001b[0;32mTrue\u001b[0m\u001b[0;34m)\u001b[0m\u001b[0;34m\u001b[0m\u001b[0;34m\u001b[0m\u001b[0m\n",
            "\u001b[0;31mKeyboardInterrupt\u001b[0m: Interrupted by user"
          ]
        }
      ]
    },
    {
      "cell_type": "code",
      "source": [],
      "metadata": {
        "id": "rqIEb6ewFKsZ"
      },
      "execution_count": null,
      "outputs": []
    }
  ]
}